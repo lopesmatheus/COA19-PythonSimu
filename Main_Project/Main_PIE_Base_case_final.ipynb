{
  "cells": [
    {
      "cell_type": "markdown",
      "id": "aa05f3f8",
      "metadata": {
        "id": "aa05f3f8"
      },
      "source": [
        "<a href=\"https://colab.research.google.com/github/lopesmatheus/COA19-PythonSimu/blob/main/Main_PIE.ipynb\" target=\"_parent\"><img src=\"https://colab.research.google.com/assets/colab-badge.svg\" alt=\"Open In Colab\"/></a>"
      ]
    },
    {
      "cell_type": "markdown",
      "id": "b4cdcb57",
      "metadata": {
        "id": "b4cdcb57"
      },
      "source": [
        "# PIE - Apprentissage par renforcement pour le contrôle optimal des systèmes d’air - cas basique"
      ]
    },
    {
      "cell_type": "markdown",
      "id": "8cc88107",
      "metadata": {
        "id": "8cc88107"
      },
      "source": [
        "Ce notebook a pour objet de répondre au besoin exprimé par Liebherr Aerospace et qui s'inscrit dans le PIE-COA19 \"Apprentissage par renforcement pour le contrôle optimal des systèmes d'air\". Dans ce notebook, nous mettons en place deux algorithmes d'apprentissage par renforcement (DDPG et SAC). Avant de s'attaquer au problème réel, nous tentons de contrôler un pendule inversé à l'aide de ces deux algorithmes pour vérifier leur bon fonctionnement avant de s'attaquer aux cas réel dans l'autre notebook. \n",
        "![image.png](data:image/png;base64,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)"
      ]
    },
    {
      "attachments": {},
      "cell_type": "markdown",
      "id": "d0e88e7f",
      "metadata": {
        "id": "d0e88e7f"
      },
      "source": [
        "0. [Prérequis](#sec0)\n",
        "    1. [À jouer sous Colab](#sec0-1)\n",
        "    2. [Modules](#sec0-2)\n",
        "1. [Environnements](#sec1)\n",
        "2. [Agent](#sec2)\n",
        "3. [Algorithmes (Actor-Critic)](#sec3)\n",
        "    1. [Deep-Deterministic Policy Gradient (DDPG)](#sec3-1)\n",
        "        1. [Essai sur environnement jouet CarPend](#sec3-1-1)\n",
        "    2. [Soft Actor-critic (SAC)](#sec3-2)\n",
        "        1. [Essai sur environnement jouet CarPend](#sec3-2-1)\n",
        "4. [Évolution des rewards selon les algorithmes](#sec4)"
      ]
    },
    {
      "cell_type": "markdown",
      "id": "be8d29ae",
      "metadata": {
        "id": "be8d29ae"
      },
      "source": [
        "# <a id=\"sec0\"></a> 0. Prérequis"
      ]
    },
    {
      "cell_type": "markdown",
      "id": "65499c96",
      "metadata": {
        "id": "65499c96"
      },
      "source": [
        "### <a id=\"sec0-1\"></a> 0.1. À jouer sous Colab"
      ]
    },
    {
      "cell_type": "markdown",
      "id": "3bb31938",
      "metadata": {
        "id": "3bb31938"
      },
      "source": [
        "À exécuter si le notebook est joué sous Colab ou en local et que les librairies suivantes ne sont pas installées."
      ]
    },
    {
      "cell_type": "code",
      "execution_count": null,
      "id": "40s6gnrBlDtn",
      "metadata": {
        "colab": {
          "base_uri": "https://localhost:8080/"
        },
        "id": "40s6gnrBlDtn",
        "outputId": "9f8051b1-1516-4fef-efb6-c1bd20a1a366"
      },
      "outputs": [
        {
          "name": "stdout",
          "output_type": "stream",
          "text": [
            "Looking in indexes: https://pypi.org/simple, https://us-python.pkg.dev/colab-wheels/public/simple/\n",
            "Requirement already satisfied: gym[box2d] in /usr/local/lib/python3.8/dist-packages (0.25.2)\n",
            "Requirement already satisfied: gym-notices>=0.0.4 in /usr/local/lib/python3.8/dist-packages (from gym[box2d]) (0.0.8)\n",
            "Requirement already satisfied: cloudpickle>=1.2.0 in /usr/local/lib/python3.8/dist-packages (from gym[box2d]) (2.2.1)\n",
            "Requirement already satisfied: importlib-metadata>=4.8.0 in /usr/local/lib/python3.8/dist-packages (from gym[box2d]) (6.0.0)\n",
            "Requirement already satisfied: numpy>=1.18.0 in /usr/local/lib/python3.8/dist-packages (from gym[box2d]) (1.22.4)\n",
            "Collecting swig==4.*\n",
            "  Downloading swig-4.1.1-py2.py3-none-manylinux_2_5_x86_64.manylinux1_x86_64.whl (1.8 MB)\n",
            "\u001b[2K     \u001b[90m━━━━━━━━━━━━━━━━━━━━━━━━━━━━━━━━━━━━━━━━\u001b[0m \u001b[32m1.8/1.8 MB\u001b[0m \u001b[31m22.8 MB/s\u001b[0m eta \u001b[36m0:00:00\u001b[0m\n",
            "\u001b[?25hCollecting pygame==2.1.0\n",
            "  Downloading pygame-2.1.0-cp38-cp38-manylinux_2_17_x86_64.manylinux2014_x86_64.whl (18.3 MB)\n",
            "\u001b[2K     \u001b[90m━━━━━━━━━━━━━━━━━━━━━━━━━━━━━━━━━━━━━━━━\u001b[0m \u001b[32m18.3/18.3 MB\u001b[0m \u001b[31m50.2 MB/s\u001b[0m eta \u001b[36m0:00:00\u001b[0m\n",
            "\u001b[?25hCollecting box2d-py==2.3.5\n",
            "  Downloading box2d-py-2.3.5.tar.gz (374 kB)\n",
            "\u001b[2K     \u001b[90m━━━━━━━━━━━━━━━━━━━━━━━━━━━━━━━━━━━━━━\u001b[0m \u001b[32m374.4/374.4 KB\u001b[0m \u001b[31m14.8 MB/s\u001b[0m eta \u001b[36m0:00:00\u001b[0m\n",
            "\u001b[?25h  Preparing metadata (setup.py) ... \u001b[?25l\u001b[?25hdone\n",
            "Requirement already satisfied: zipp>=0.5 in /usr/local/lib/python3.8/dist-packages (from importlib-metadata>=4.8.0->gym[box2d]) (3.15.0)\n",
            "Building wheels for collected packages: box2d-py\n",
            "  \u001b[1;31merror\u001b[0m: \u001b[1msubprocess-exited-with-error\u001b[0m\n",
            "  \n",
            "  \u001b[31m×\u001b[0m \u001b[32mpython setup.py bdist_wheel\u001b[0m did not run successfully.\n",
            "  \u001b[31m│\u001b[0m exit code: \u001b[1;36m1\u001b[0m\n",
            "  \u001b[31m╰─>\u001b[0m See above for output.\n",
            "  \n",
            "  \u001b[1;35mnote\u001b[0m: This error originates from a subprocess, and is likely not a problem with pip.\n",
            "  Building wheel for box2d-py (setup.py) ... \u001b[?25lerror\n",
            "\u001b[31m  ERROR: Failed building wheel for box2d-py\u001b[0m\u001b[31m\n",
            "\u001b[0m\u001b[?25h  Running setup.py clean for box2d-py\n",
            "Failed to build box2d-py\n",
            "Installing collected packages: swig, box2d-py, pygame\n",
            "  Running setup.py install for box2d-py ... \u001b[?25l\u001b[?25hdone\n",
            "\u001b[33m  DEPRECATION: box2d-py was installed using the legacy 'setup.py install' method, because a wheel could not be built for it. A possible replacement is to fix the wheel build issue reported above. Discussion can be found at https://github.com/pypa/pip/issues/8368\u001b[0m\u001b[33m\n",
            "\u001b[0mSuccessfully installed box2d-py-2.3.5 pygame-2.1.0 swig-4.1.1\n"
          ]
        }
      ],
      "source": [
        "!pip install gym[box2d]"
      ]
    },
    {
      "cell_type": "code",
      "execution_count": null,
      "id": "6e495d7b",
      "metadata": {
        "id": "6e495d7b"
      },
      "outputs": [],
      "source": [
        "!pip install pytorch"
      ]
    },
    {
      "cell_type": "markdown",
      "id": "3b8f388e",
      "metadata": {
        "id": "3b8f388e"
      },
      "source": [
        "### <a id=\"sec0-2\"></a> 0.2. Modules"
      ]
    },
    {
      "cell_type": "code",
      "execution_count": 1,
      "id": "8a91ec20",
      "metadata": {
        "id": "8a91ec20"
      },
      "outputs": [],
      "source": [
        "import gym\n",
        "import time\n",
        "import shutil\n",
        "import pandas as pd\n",
        "import numpy as np\n",
        "import random\n",
        "import torch\n",
        "from torch import nn\n",
        "from statistics import mean\n",
        "import matplotlib.pyplot as plt\n",
        "import copy\n",
        "from scipy.integrate import odeint"
      ]
    },
    {
      "cell_type": "markdown",
      "id": "ab468cf7",
      "metadata": {
        "id": "ab468cf7"
      },
      "source": [
        "# <a id=\"sec1\"></a> 1. Environnements"
      ]
    },
    {
      "cell_type": "markdown",
      "id": "9d7e4937",
      "metadata": {
        "id": "9d7e4937"
      },
      "source": [
        "### <a id=\"sec1-1\"></a> Environnement jouet : CarPend"
      ]
    },
    {
      "cell_type": "markdown",
      "id": "uAh_RextSLey",
      "metadata": {
        "id": "uAh_RextSLey"
      },
      "source": [
        "La classe ci-dessous nous permet de mettre en place le  pendule inversé, qui nous servira d'environnement de simulation pour nos deux algorithmes. \n",
        "\n",
        "La dynamique du pendule inversé est complèxe, et est modélisée par 4 variables d'état : $(x,\\dot x, \\theta, \\dot\\theta )$ et les équations suivantes ($M$ étant la masse du chariot, $m$ celle du pendule, et $b$ le coefficient de frottement de l'air) : \n",
        "\\begin{equation}\n",
        "  \\begin{cases}\n",
        "    \\ddot \\theta = \\dfrac{m\\cdot g \\cdot l\\cdot sin(\\theta)-m\\cdot l\\cdot cos(\\theta)\\cdot \\ddot x - b\\cdot \\dot \\theta}{m\\cdot l^2} \\\\\n",
        "    \\ddot x = \\dfrac{f-\\ddot \\theta \\cdot m \\cdot l \\cdot cos(\\theta)+m\\cdot l \\cdot \\dot \\theta^2 sin(\\theta)}{M+m}\n",
        "  \\end{cases}\n",
        "\\end{equation}"
      ]
    },
    {
      "cell_type": "code",
      "execution_count": 2,
      "id": "2d26a9f8",
      "metadata": {
        "id": "2d26a9f8"
      },
      "outputs": [],
      "source": [
        "\n",
        "class CarPend: \n",
        "    def __init__(self, max_time=500):\n",
        "        # Définit les paramètres physiques de l'environnement\n",
        "\n",
        "        self.M = 400/1000  # Masse du chariot\n",
        "        self.m = 50/1000  # Masse du pendule\n",
        "        self.L = 0.3  # Longueur de la tige\n",
        "        self.g = 9.81  # Accélération due à la gravité\n",
        "        self.b = 0.01  # Coefficient de frottement de l'air\n",
        "\n",
        "\n",
        "        self.nb_actions=1 # La force appliquée au chariot\n",
        "        self.state_size=4 #4 variables d'état\n",
        "\n",
        "        # Définit l'espace d'action et l'espace d'observation de l'environnement\n",
        "        self.action_space = gym.spaces.Box(-1.0, 1.0, (1,), np.float64) # l'eespace d'actions est continu\n",
        "        self.observation_space = gym.spaces.Box(np.array([-5.0, -10.0, -2.0*np.pi, -10.0]), np.array([5.0, 10.0, 2.0*np.pi, 10.0]), (4,), np.float64) #L'espace d'état est continu\n",
        "\n",
        "        # Initialisation d'autres paramètres\n",
        "\n",
        "        self.dt = 0.01  # Pas de temps\n",
        "        self.count = 0  # Compteur d'étapes effectuées\n",
        "        self.max_time = max_time  # Temps maximum pour un épisode\n",
        "\n",
        "        # Initialisation du chariot et du pendule\n",
        "\n",
        "        self.x = 0  # Position du chariot\n",
        "        self.xp = 0  # Vitesse du chariot\n",
        "        self.xpp = 0  # Accélération du chariot\n",
        "        self.theta = 0  # Angle de la tige par rapport à la verticale\n",
        "        self.thetap = 0  # Vitesse angulaire de la tige\n",
        "        self.thetapp = 0  # Accélération angulaire de la tige\n",
        "\n",
        "    def reset(self):\n",
        "\n",
        "        # Réinitialise les états du chariot et du pendule à une valeur par défaut\n",
        "        self.x = 0\n",
        "        self.xp = 0\n",
        "        \n",
        "        self.count = 0\n",
        "        # Initialise l'angle de la tige à une valeur aléatoire proche de zéro (pour être en déséquilibre)\n",
        "        self.theta = np.random.uniform(-np.pi/100., np.pi/100.) #angle entre -1.8 et 1.8°\n",
        "        self.thetap = 0 #Vitesse initiale nulle\n",
        "\n",
        "        # Retourne l'état initial sous forme de tableau NumPy\n",
        "        state = [self.x, self.xp, self.theta, self.thetap]\n",
        "        return np.array(state)\n",
        "\n",
        "    def dynamic_mod(self, x0,t, f): #f représente la force appliquée au chariot\n",
        "        #t est la variable temps, utilisée dans odeint de scipy (pour intégrer l'accélération)\n",
        "\n",
        "        # Fonction de résolution des équations différentielles pour la dynamique du couple chariot pendule\n",
        "        \n",
        "        x1, x2, x3, x4 = x0  #etat initial\n",
        "        tol = 10**(-6)  # Tolérance pour l'erreur de convergence\n",
        "        er = 1  # Erreur de convergence\n",
        "        dx2dt_old = self.xpp\n",
        "        dx4dt_old = self.thetapp\n",
        "        \n",
        "        while er > tol:\n",
        "            # Calcule l'accélération du chariot et du pendule à partir des équations de la dynamique\n",
        "            if abs(x1) >= 5:\n",
        "                dx2dt = 0  # Le chariot ne peut aller plus loin que son bord, alors son accélération est nulle (x2 correspond à sa vitesse)\n",
        "            else:\n",
        "                dx2dt = (f - dx4dt_old * self.m * self.L * np.cos(x3) + self.m * self.L * (x4**2) * np.sin(x3)) / (self.M + self.m) #PFD sur l'accélération du chariot\n",
        "            \n",
        "            dx4dt = (self.m * self.g * self.L * np.sin(x3) - self.m * self.L * np.cos(x3) * dx2dt - self.b*x4) / (self.m * self.L**2) #PFD sur l'accélération angulaire du pendule\n",
        "            \n",
        "            er = max(abs(dx2dt - dx2dt_old),abs(dx4dt - dx4dt_old)) # ecart entre les valeurs des accélérations entre deux itérations. Tant qu'elle n'est pas assez faible, on continue\n",
        "            \n",
        "            dx2dt_old = dx2dt\n",
        "            dx4dt_old = dx4dt\n",
        "        \n",
        "        self.xpp = dx2dt\n",
        "        self.thetapp = dx4dt\n",
        "        return np.array([float(x2),float(dx2dt),float(x4),float(dx4dt)]) #on retourne l'état final\n",
        "    \n",
        "\n",
        "    def step(self, action):\n",
        "\n",
        "        done = False\n",
        "        self.count += 1\n",
        "\n",
        "        # Définition du vecteur d'état initial x0\n",
        "        x0 = np.array([self.x, self.xp, self.theta, self.thetap])\n",
        "\n",
        "        # Définition du vecteur temps t\n",
        "        t = np.array([0, self.dt])\n",
        "        \n",
        "        self.action = action  #action = force appliquée\n",
        "\n",
        "        # Calcul de la solution de l'équation différentielle à l'aide de la méthode odeint de scipy.integrate\n",
        "        sol = odeint(self.dynamic_mod, x0, t, args=(self.action,))\n",
        "\n",
        "        # Mise à jour de la position x du chariot\n",
        "        self.x = sol[-1, 0]\n",
        "\n",
        "        # Limite la position x du chariot entre -5 et 5\n",
        "        self.x = max(self.x, -5)\n",
        "        self.x = min(self.x, 5)\n",
        "\n",
        "        # Si la position du chariot est supérieure à 5 ou inférieure à -5, la vitesse du chariot est nulle\n",
        "        if abs(self.x) >= 5:\n",
        "            self.xp = 0\n",
        "        # Sinon, on met à jour la vitesse du chariot\n",
        "        else:\n",
        "            self.xp = sol[-1, 1]\n",
        "\n",
        "\n",
        "        # Mise à jour de la position angulaire du pendule\n",
        "        self.theta = sol[-1, 2]\n",
        "\n",
        "        # Mise à jour de la vitesse angulaire du pendule\n",
        "        self.thetap = sol[-1, 3]\n",
        "\n",
        "        # Définition du vecteur d'état\n",
        "        state = [self.x, self.xp, self.theta, self.thetap]\n",
        "        \n",
        "        # Si la position de la voiture et l'angle de la tige sont dans les limites acceptables, done est False et reward est 1\n",
        "        if abs(self.x) <= 2.5 and abs(self.theta) <= 50*np.pi/180:\n",
        "            done = False\n",
        "            reward = 1\n",
        "        # Sinon, done est True et reward est 0\n",
        "        else:\n",
        "            done = True\n",
        "            reward = 0\n",
        "        # Si le temps de simulation dépasse la durée maximale, done est True\n",
        "        if self.count >= self.max_time:\n",
        "            done = True\n",
        "        # Retourne le vecteur d'état, la récompense et le booléen done\n",
        "        return np.array(state), reward, done, _"
      ]
    },
    {
      "cell_type": "markdown",
      "id": "bb278307",
      "metadata": {
        "id": "bb278307"
      },
      "source": [
        "# <a id=\"sec2\"></a> 2. Agent\n"
      ]
    },
    {
      "cell_type": "markdown",
      "id": "N877CrcQWRCb",
      "metadata": {
        "id": "N877CrcQWRCb"
      },
      "source": [
        "ReplayBuffer : L'idée clé du Replay Buffer est que les expériences passées peuvent être utilisées pour entraîner l'agent, plutôt que de simplement utiliser les expériences actuelles. Le Replay Buffer permet donc de stocker ces expériences passées et de les réutiliser plusieurs fois lors de l'entraînement de l'agent."
      ]
    },
    {
      "cell_type": "code",
      "execution_count": 3,
      "id": "5b889324",
      "metadata": {
        "colab": {
          "base_uri": "https://localhost:8080/"
        },
        "id": "5b889324",
        "outputId": "f1abf551-4c91-41e9-81b9-68e6cefd905a"
      },
      "outputs": [
        {
          "name": "stdout",
          "output_type": "stream",
          "text": [
            "cuda\n"
          ]
        }
      ],
      "source": [
        "DEVICE = torch.device(\"cuda\" if torch.cuda.is_available() else \"cpu\")\n",
        "print(DEVICE) ##On vérifie que le GPU Colab est connecté pour accélérer l'apprentissage\n",
        "\n",
        "\n",
        "class ReplayBuffer:\n",
        "    def __init__(self, capacity, device=DEVICE):\n",
        "        self.capacity = capacity # capacité du buffer\n",
        "        self.device = device\n",
        "        self.data = []\n",
        "        self.index = 0\n",
        "\n",
        "    def append(self, s, a, r, s_, d): # Fonction permettant d'ajouter un ensemble (etat,action,reward, action',done ) au replay Buffer\n",
        "        if len(self.data) < self.capacity:\n",
        "            self.data.append(None) ## Création de la valeur None dans la liste pour la remplacer ensuite\n",
        "        self.data[self.index] = (s, a, r, s_, d)\n",
        "        self.index = (self.index + 1) % self.capacity\n",
        "\n",
        "    def sample(self, batch_size): #Sample d'un batch de (s,a,r,s',done)\n",
        "        batch = random.sample(self.data, batch_size)\n",
        "        return list(map(lambda x:torch.Tensor(x).to(self.device), list(zip(*batch)))) #On envoie le batch sur le device, via un mapping \n",
        "\n",
        "    def __len__(self):\n",
        "        return len(self.data)"
      ]
    },
    {
      "cell_type": "markdown",
      "id": "i5Hh2KNqWPmR",
      "metadata": {
        "id": "i5Hh2KNqWPmR"
      },
      "source": [
        "\n",
        "Pour simplifier le code global de ce notebook, nous allons utiliser une classe mère pour chacun de nos agents. Cela nous permettra de construire une fonction de simulation qui prend en argument un environnement et un agent, et de travailler avec n'importe quels agents et n'importe quels environnements. Il suffira ensuite de décrire ce que l'agent doit faire à chaque étape de l'apprentissage."
      ]
    },
    {
      "cell_type": "code",
      "execution_count": 4,
      "id": "05c7b4cd",
      "metadata": {
        "id": "05c7b4cd"
      },
      "outputs": [],
      "source": [
        "class Agent: ##Classe squelette d'un agent\n",
        "  \n",
        "    def __init__(self,state_space, action_space, device=DEVICE, name=\"base_agent\"):\n",
        "\n",
        "        self.name = name \n",
        "\n",
        "        self.state_space = state_space ##Espace d'état\n",
        "        self.state_shape = state_space.shape\n",
        "        self.state_size = state_space.shape[0]  # Espace d'état continu\n",
        "\n",
        "        self.continuous = isinstance(action_space, gym.spaces.Box) #Check de la continuité de l'espace\n",
        "\n",
        "        self.action_space = action_space\n",
        "        self.nb_actions = self.action_space.shape[0] if self.continuous else self.action_space.n\n",
        "\n",
        "        self.last_state = None  # Useful to store interaction when we recieve (new_state, reward, done) tuple\n",
        "        self.device = device\n",
        "        self.episode_id = 0\n",
        "        self.episode_time_step_id = 0\n",
        "        self.time_step_id = 0\n",
        "    \n",
        "    #Fonctions utiles pour la simulation des interactions avec l'environnement : \n",
        "    \n",
        "    def on_episode_start(self, state):\n",
        "        self.last_state = state\n",
        "        self.episode_time_step_id = 0\n",
        "        self.episode_id = 0\n",
        "\n",
        "    def action(self, state):  ##F\n",
        "        res = self.action_space.sample()\n",
        "        return res\n",
        "\n",
        "    def on_action_stop(self, action, new_state, reward, done):\n",
        "        self.episode_time_step_id += 1\n",
        "        self.time_step_id += 1\n",
        "        self.last_state = new_state\n",
        "\n",
        "    def on_episode_stop(self):\n",
        "        self.episode_id += 1\n",
        "\n",
        "    def on_simulation_stop(self):\n",
        "        pass"
      ]
    },
    {
      "attachments": {},
      "cell_type": "markdown",
      "id": "76b47bdf",
      "metadata": {
        "id": "76b47bdf"
      },
      "source": [
        "# <a id=\"sec3\"></a> 3. Algorithmes (Actor-Critic)\n",
        "\n",
        "<div id=\"actor_critic\"></div>\n",
        "Pour comprendre leur fonctionnement, voici l'implémentation de deux algorithmes largement utilisés pour le controle via actions continues : Deep-Deterministic Policy Gradient (DDPG) et Soft Actor-Critic (SAC). \n",
        "\n",
        "### <a id=\"sec3-1\"></a> 3.1. Deep-Deterministic Policy Gradient (DDPG)\n",
        "\n",
        "<div id=\"ddpg\"></div>\n",
        "DDPG signifie Deep Deterministic Policy Gradient. Cet algorithme vise à apprendre simultanément une Q-fonction (qui à un état (s,a) renvoie la récompense espérée) et une politique d'actions (qui à un état fournit une distribution d'actions). Contrairement au DQN que l'on utilise dans le cas d'actions discrètes, DDPG est utilisé pour un espace d'actions continues et c'est exactement le cadre du problème de contrôle posé.\n",
        "\n",
        "Ici, on cherche naturellement à déterminer la Q-fonction optimale. Cette dernière est donnée par l'équation de Bellman : $Q^*(s,a) = E_{s' \\sim \\pi}\\big( r(s,a)+\\gamma*\\max_{a'}Q^*(s',a') \\big)$ , où $\\pi$ est une politique d'actions et $r$, la fonction récompense.\n",
        "\n",
        "L'idée de l'algorithme du DDPG est de construire un approximateur de $Q^*$.\n",
        "\n",
        "DDPG utilise globalement deux réseaux de neurones : l'actor et le critic.\n",
        "\n",
        "Le rôle de l'actor est, étant donné une observation $s$, de retourner l'action qui maximisera la récompense sur le long-terme (l'espérance), tandis que le rôle du critic est, étant donné une observation $s$ et une action $a$, de retourner l'espérance de la récompense sur le long-terme. Ainsi, le critic et l'actor sont deux réseaux qui fonctionnent de pair.\n",
        "\n",
        "DDPG est un algorithme dit \"off-policy\", en effet, la politique utilisée pour entraîner le critic est différente de la politique que l'on cherche à améliorer et évaluer : cela est rendu possible car les transitions off-policy générées permettent également de construire une approximation de la Q-fonction optimale (via une minimisation de l'erreur moyenne quadratique dans l'équation de Bellman).\n",
        "\n",
        "Notons également que la phase d'exploration s'effectue en générant un bruit aléatoire que l'on ajoute à l'output de notre actor. Par ailleurs, on utilise également un target actor et un target critic qui permettent de contribuer à la stabilité de l'optimisation.\n"
      ]
    },
    {
      "attachments": {},
      "cell_type": "markdown",
      "id": "d16e3981",
      "metadata": {},
      "source": [
        "Nous construisons alors la classe du NN dont l'actor et le critic sont des instances."
      ]
    },
    {
      "cell_type": "code",
      "execution_count": 5,
      "id": "ce34aab0",
      "metadata": {
        "id": "ce34aab0"
      },
      "outputs": [],
      "source": [
        "from torch import optim\n",
        "\n",
        "def init_weights(layer, bound=None): ##Initialisation uniforme des poids/biais du réseau de neurones\n",
        "    if bound is None:\n",
        "        bound = 1. / np.sqrt(layer.weight.data.size()[0])\n",
        "        \n",
        "    torch.nn.init.uniform_(layer.weight.data, -bound, bound)\n",
        "    torch.nn.init.uniform_(layer.bias.data, -bound, bound)\n",
        "\n",
        "\n",
        "class DefaultNN(nn.Module): ##Réseau de neurones types de nos agents/critiques\n",
        "    def __init__(self, learning_rate, input_dims, layer_1_dims, layer_2_dims, output_dims, device,\n",
        "                 last_activation=None):\n",
        "        super().__init__() \n",
        "\n",
        "        #Couche 1\n",
        "        self.last_activation = last_activation\n",
        "        self.layer_1 = nn.Linear(input_dims, layer_1_dims)\n",
        "        init_weights(self.layer_1)\n",
        "        self.layer_norm_1 = nn.LayerNorm(layer_1_dims)#Normalisation des poids, pour éviter une explosion des valuers\n",
        "\n",
        "        #Couche 2\n",
        "        self.layer_2 = nn.Linear(layer_1_dims, layer_2_dims)\n",
        "        init_weights(self.layer_2)\n",
        "        self.layer_norm_2 = nn.LayerNorm(layer_2_dims) #Normalisation des poids, pour éviter une explosion des valuers\n",
        "\n",
        "        #Couche de sortie\n",
        "        self.layer_3 = nn.Linear(layer_2_dims, output_dims)\n",
        "        init_weights(self.layer_3, bound=0.003)\n",
        "\n",
        "        self.optimizer = optim.Adam(self.parameters(), lr=learning_rate) #ADAptive Moment (ADAM) est utilisé comme optimiseur pour la descente de gradient\n",
        "        self.device = device\n",
        "        self.to(self.device)\n",
        "\n",
        "    def forward(self, inputs):  #Propagation d'un état à travers le réseau \n",
        "        running_output = self.layer_1(inputs)\n",
        "        running_output = self.layer_norm_1(running_output)\n",
        "        running_output = torch.nn.functional.relu(running_output) #Relu comme activation couche 1\n",
        "        running_output = self.layer_2(running_output)\n",
        "        running_output = self.layer_norm_2(running_output)#Relu comme activation couche 2\n",
        "        running_output = torch.nn.functional.relu(running_output)\n",
        "        running_output = self.layer_3(running_output)\n",
        "\n",
        "        if self.last_activation is not None:\n",
        "            running_output = self.last_activation(running_output) #Activation sortie à la demande : paramètre self.activation\n",
        "        return running_output\n",
        "\n",
        "    def converge_to(self, other_model, tau=0.01): #ponderation entre le target et le main pour stabiliser la convergence\n",
        "        \"\"\"\n",
        "        Make the value of parameters of this model converge to one from the given model.\n",
        "        The parameter tau indicate how close our weights should be from the one of the other model.\n",
        "        self.converge_to(other_model, tau=1) is equivalent to self = copy.deepcopy(other_model).\n",
        "\n",
        "        other_model should have the same shape, dimensions, than self.\n",
        "        \"\"\"\n",
        "        for self_param, other_param in zip(self.parameters(), other_model.parameters()):\n",
        "            self_param.data.copy_(\n",
        "                self_param.data * (1.0 - tau) + other_param.data * tau\n",
        "            )"
      ]
    },
    {
      "cell_type": "markdown",
      "id": "796d48ef",
      "metadata": {},
      "source": [
        "Aussi, nous écrivons une fonction qui effectue une simulation."
      ]
    },
    {
      "cell_type": "code",
      "execution_count": 6,
      "id": "d6RjX_UNQj_y",
      "metadata": {
        "id": "d6RjX_UNQj_y"
      },
      "outputs": [],
      "source": [
        "#Fonction effectuant une simulation d'intéractions entre l'agent et l'environnement\n",
        "def simulation(environment, agent, nb_episodes=200, verbose=True):  \n",
        "  \n",
        "    episodes_rewards_sum = [] #Liste qui va contenir la somme des reward pour chaque épisode\n",
        "    #agent.on_simulation_start()\n",
        "    l=[]\n",
        "         \n",
        "    for episode_id in range(nb_episodes):\n",
        "        state = environment.reset() #Reinitialisation de l'environnement\n",
        "        agent.on_episode_start(state) #On simule que l'environnement était actif avant l'état initial\n",
        "\n",
        "        episode_rewards = [] \n",
        "        done = False\n",
        "        while not done: #Tant que l'épisode n'est pas terminé\n",
        "            action = agent.action(state) #l'état est donné à l'agent qui ordonne une action\n",
        "\n",
        "            state, reward, done ,_= environment.step(action) #On actualise l'environnement avec l'action fournie\n",
        "\n",
        "            # Ending time step process ...\n",
        "            agent.on_action_stop(action, state, reward, done) #Entrainement de l'acteur et du critique \n",
        "\n",
        "            # Store reward\n",
        "            episode_rewards.append(reward)\n",
        "\n",
        "        agent.on_episode_stop()\n",
        "        rewards_sum = sum(episode_rewards)\n",
        "        episodes_rewards_sum.append(rewards_sum) #Reward de l'épisode = somme des reward de chaque action\n",
        "\n",
        "        if len(episodes_rewards_sum) > 20:\n",
        "            last_20_average = mean(episodes_rewards_sum[-20:]) #Moyenne des rewards des 20 derniers épisodes\n",
        "        else:\n",
        "            last_20_average = mean(episodes_rewards_sum)\n",
        "\n",
        "        #Affichage des résultats, tous les 5 episodes\n",
        "        if episode_id%5==0:\n",
        "          if verbose:\n",
        "              print(\"Episode \", '{:3d}'.format(episode_id),\n",
        "                    \", episode return \", '{:4.1f}'.format(rewards_sum),\n",
        "                    \", last 20 avg \", '{:4.1f}'.format(last_20_average),\n",
        "                    sep='')\n",
        "    return episodes_rewards_sum #La liste des reward de chaque episode. "
      ]
    },
    {
      "attachments": {},
      "cell_type": "markdown",
      "id": "a157a182",
      "metadata": {},
      "source": [
        "Enfin, notre agent :"
      ]
    },
    {
      "cell_type": "code",
      "execution_count": 21,
      "id": "9e89db5f",
      "metadata": {
        "id": "9e89db5f"
      },
      "outputs": [],
      "source": [
        "class DDPGAgent(Agent):\n",
        "    def __init__(self, state_space, action_space, device, actor_lr=0.000025, critic_lr=0.00025, tau=0.001, gamma=0.99,\n",
        "                 max_size=100000, layer1_size=200, layer2_size=150, batch_size=64, noise_std=0.05, name=\"DDPG\"):\n",
        "        assert isinstance(action_space, gym.spaces.Box)  #L'espace d'actions est ici continu. \n",
        "        super().__init__(state_space, action_space, device=device, name=name)\n",
        "        self.gamma = gamma #discount factor !\n",
        "        self.tau = tau #facteur de ponderation \n",
        "        self.replay_buffer = ReplayBuffer(max_size, self.device)\n",
        "        self.batch_size = batch_size\n",
        "\n",
        "        self.actor = DefaultNN(actor_lr, self.state_size, layer1_size, layer2_size, self.nb_actions #actor\n",
        "                               , self.device,\n",
        "                               last_activation=None)\n",
        "        self.critic = DefaultNN(critic_lr, self.state_size + self.nb_actions, layer1_size, layer2_size, 1, self.device) #critic\n",
        "\n",
        "        self.target_actor = copy.deepcopy(self.actor) #target actor\n",
        "        self.target_critic = copy.deepcopy(self.critic) # target critic\n",
        "\n",
        "        self.normal_distribution = torch.distributions.normal.Normal(\n",
        "            torch.zeros(self.nb_actions), torch.full((self.nb_actions,), noise_std))\n",
        "\n",
        "    def action(self, observation):\n",
        "        with torch.no_grad():\n",
        "\n",
        "            observation = torch.tensor(observation, dtype=torch.float).to(self.device)\n",
        "            actor_output = self.actor.forward(observation).to(self.device)\n",
        "            noise = self.normal_distribution.sample().to(self.device)\n",
        "            action = actor_output + noise #l'action correspond à la sortie de l'actor ainsi qu'un bruit stochastique (ici selon une loi normale)\n",
        "\n",
        "        return action.cpu().detach().numpy()\n",
        "\n",
        "    def on_action_stop(self, action, new_state, reward, done):\n",
        "        self.replay_buffer.append(self.last_state, action, reward, new_state, done) #ajout au replay buffer.\n",
        "        self.learn()\n",
        "        super().on_action_stop(action, new_state, reward, done)\n",
        "\n",
        "    def learn(self):\n",
        "\n",
        "        if len(self.replay_buffer.data) > self.batch_size: #si la longueur du replay buffer est supérieure à la taille du batch, on effectue la boucle d'apprentissage\n",
        "            states, actions, rewards, new_states, dones = self.replay_buffer.sample(self.batch_size)\n",
        "\n",
        "            with torch.no_grad():\n",
        "                target_actions = self.target_actor.forward(new_states)\n",
        "                critic_value_ = self.target_critic.forward(torch.concat((new_states, target_actions), dim=-1))\n",
        "            critic_value = self.critic.forward(torch.concat((states, actions), dim=-1))\n",
        "            target = torch.addcmul(rewards, self.gamma, 1 - dones, critic_value_.squeeze()).view(self.batch_size, 1)\n",
        "            self.critic.optimizer.zero_grad()\n",
        "            critic_loss = torch.nn.functional.mse_loss(target, critic_value)\n",
        "            critic_loss.backward()\n",
        "            self.critic.optimizer.step()\n",
        "\n",
        "            self.actor.optimizer.zero_grad()\n",
        "            actions = self.actor.forward(states)\n",
        "            actor_loss = - self.critic.forward(torch.concat((states, actions), dim=-1))\n",
        "            actor_loss = torch.mean(actor_loss)\n",
        "            actor_loss.backward()\n",
        "            self.actor.optimizer.step()\n",
        "\n",
        "            self.target_critic.converge_to(self.critic, tau=self.tau) #ponderation\n",
        "            self.target_actor.converge_to(self.actor, tau=self.tau) #ponderation"
      ]
    },
    {
      "cell_type": "markdown",
      "id": "2957a236",
      "metadata": {
        "id": "2957a236"
      },
      "source": [
        "#### <a id=\"sec3-1-1\"></a> 3.1.1. Essai sur environnement jouet CarPend"
      ]
    },
    {
      "cell_type": "code",
      "execution_count": 22,
      "id": "e075c83c",
      "metadata": {
        "colab": {
          "base_uri": "https://localhost:8080/"
        },
        "id": "e075c83c",
        "outputId": "1020349e-20d9-423c-db61-88f803f1c0d3"
      },
      "outputs": [
        {
          "name": "stderr",
          "output_type": "stream",
          "text": [
            "<ipython-input-21-b46436beddba>:50: UserWarning: This overload of addcmul is deprecated:\n",
            "\taddcmul(Tensor input, Number value, Tensor tensor1, Tensor tensor2, *, Tensor out)\n",
            "Consider using one of the following signatures instead:\n",
            "\taddcmul(Tensor input, Tensor tensor1, Tensor tensor2, *, Number value, Tensor out) (Triggered internally at ../torch/csrc/utils/python_arg_parser.cpp:1420.)\n",
            "  target = torch.addcmul(rewards, self.gamma, 1 - dones, critic_value_.squeeze()).view(self.batch_size, 1)\n"
          ]
        },
        {
          "name": "stdout",
          "output_type": "stream",
          "text": [
            "Episode   0, episode return 84.0, last 20 avg 84.0\n",
            "Episode   5, episode return 57.0, last 20 avg 79.0\n",
            "Episode  10, episode return 85.0, last 20 avg 85.5\n",
            "Episode  15, episode return 88.0, last 20 avg 84.2\n",
            "Episode  20, episode return 170.0, last 20 avg 91.5\n",
            "Episode  25, episode return 110.0, last 20 avg 94.7\n",
            "Episode  30, episode return 153.0, last 20 avg 94.8\n",
            "Episode  35, episode return 59.0, last 20 avg 93.0\n",
            "Episode  40, episode return 64.0, last 20 avg 81.5\n",
            "Episode  45, episode return 63.0, last 20 avg 77.2\n",
            "Episode  50, episode return 71.0, last 20 avg 72.8\n",
            "Episode  55, episode return 129.0, last 20 avg 75.3\n",
            "Episode  60, episode return 129.0, last 20 avg 82.8\n",
            "Episode  65, episode return 73.0, last 20 avg 85.4\n"
          ]
        },
        {
          "name": "stderr",
          "output_type": "stream",
          "text": [
            "/usr/local/lib/python3.8/dist-packages/scipy/integrate/_odepack_py.py:248: ODEintWarning: Excess work done on this call (perhaps wrong Dfun type). Run with full_output = 1 to get quantitative information.\n",
            "  warnings.warn(warning_msg, ODEintWarning)\n"
          ]
        },
        {
          "name": "stdout",
          "output_type": "stream",
          "text": [
            "Episode  70, episode return 70.0, last 20 avg 92.0\n",
            "Episode  75, episode return 81.0, last 20 avg 93.7\n",
            "Episode  80, episode return 56.0, last 20 avg 86.4\n",
            "Episode  85, episode return 91.0, last 20 avg 84.0\n",
            "Episode  90, episode return 53.0, last 20 avg 79.4\n",
            "Episode  95, episode return 41.0, last 20 avg 69.1\n",
            "Episode 100, episode return 45.0, last 20 avg 63.1\n",
            "Episode 105, episode return 42.0, last 20 avg 55.6\n",
            "Episode 110, episode return 44.0, last 20 avg 45.1\n",
            "Episode 115, episode return 44.0, last 20 avg 43.2\n",
            "Episode 120, episode return 42.0, last 20 avg 42.8\n",
            "Episode 125, episode return 40.0, last 20 avg 42.4\n",
            "Episode 130, episode return 41.0, last 20 avg 42.5\n",
            "Episode 135, episode return 41.0, last 20 avg 41.8\n",
            "Episode 140, episode return 42.0, last 20 avg 41.4\n",
            "Episode 145, episode return 44.0, last 20 avg 41.5\n",
            "Episode 150, episode return 47.0, last 20 avg 43.0\n",
            "Episode 155, episode return 46.0, last 20 avg 45.4\n",
            "Episode 160, episode return 49.0, last 20 avg 47.4\n",
            "Episode 165, episode return 47.0, last 20 avg 48.5\n",
            "Episode 170, episode return 44.0, last 20 avg 48.8\n",
            "Episode 175, episode return 45.0, last 20 avg 47.6\n",
            "Episode 180, episode return 50.0, last 20 avg 48.1\n",
            "Episode 185, episode return 40.0, last 20 avg 46.5\n",
            "Episode 190, episode return 46.0, last 20 avg 44.9\n",
            "Episode 195, episode return 39.0, last 20 avg 45.6\n",
            "Episode 200, episode return 50.0, last 20 avg 44.2\n",
            "Episode 205, episode return 57.0, last 20 avg 45.5\n",
            "Episode 210, episode return 52.0, last 20 avg 48.5\n",
            "Episode 215, episode return 62.0, last 20 avg 53.7\n",
            "Episode 220, episode return 58.0, last 20 avg 57.0\n",
            "Episode 225, episode return 57.0, last 20 avg 58.8\n",
            "Episode 230, episode return 52.0, last 20 avg 58.7\n",
            "Episode 235, episode return 47.0, last 20 avg 54.5\n",
            "Episode 240, episode return 52.0, last 20 avg 51.8\n",
            "Episode 245, episode return 49.0, last 20 avg 51.0\n",
            "Episode 250, episode return 46.0, last 20 avg 50.1\n",
            "Episode 255, episode return 47.0, last 20 avg 49.5\n",
            "Episode 260, episode return 52.0, last 20 avg 49.9\n",
            "Episode 265, episode return 54.0, last 20 avg 50.8\n",
            "Episode 270, episode return 62.0, last 20 avg 52.4\n",
            "Episode 275, episode return 64.0, last 20 avg 55.2\n",
            "Episode 280, episode return 80.0, last 20 avg 61.0\n",
            "Episode 285, episode return 83.0, last 20 avg 72.1\n",
            "Episode 290, episode return 92.0, last 20 avg 80.2\n",
            "Episode 295, episode return 89.0, last 20 avg 87.8\n",
            "Episode 300, episode return 93.0, last 20 avg 91.0\n",
            "Episode 305, episode return 103.0, last 20 avg 88.3\n",
            "Episode 310, episode return 52.0, last 20 avg 78.5\n",
            "Episode 315, episode return 96.0, last 20 avg 81.1\n",
            "Episode 320, episode return 61.0, last 20 avg 83.1\n",
            "Episode 325, episode return 85.0, last 20 avg 76.7\n",
            "Episode 330, episode return 84.0, last 20 avg 87.7\n",
            "Episode 335, episode return 108.0, last 20 avg 81.0\n",
            "Episode 340, episode return 98.0, last 20 avg 83.5\n",
            "Episode 345, episode return 101.0, last 20 avg 93.5\n",
            "Episode 350, episode return 102.0, last 20 avg 95.0\n",
            "Episode 355, episode return 101.0, last 20 avg 102.0\n",
            "Episode 360, episode return 106.0, last 20 avg 103.0\n",
            "Episode 365, episode return 131.0, last 20 avg 105.8\n",
            "Episode 370, episode return 109.0, last 20 avg 110.7\n",
            "Episode 375, episode return 69.0, last 20 avg 111.0\n",
            "Episode 380, episode return 106.0, last 20 avg 106.7\n",
            "Episode 385, episode return 72.0, last 20 avg 96.5\n",
            "Episode 390, episode return 86.0, last 20 avg 94.2\n",
            "Episode 395, episode return 111.0, last 20 avg 91.8\n",
            "Episode 400, episode return 79.0, last 20 avg 95.3\n",
            "Episode 405, episode return 124.0, last 20 avg 102.3\n",
            "Episode 410, episode return 146.0, last 20 avg 102.8\n",
            "Episode 415, episode return 88.0, last 20 avg 103.5\n",
            "Episode 420, episode return 113.0, last 20 avg 104.7\n",
            "Episode 425, episode return 85.0, last 20 avg 107.2\n",
            "Episode 430, episode return 81.0, last 20 avg 106.0\n",
            "Episode 435, episode return 103.0, last 20 avg 106.8\n",
            "Episode 440, episode return 78.0, last 20 avg 104.1\n",
            "Episode 445, episode return 73.0, last 20 avg 99.3\n",
            "Episode 450, episode return 107.0, last 20 avg 95.4\n",
            "Episode 455, episode return 103.0, last 20 avg 96.9\n",
            "Episode 460, episode return 115.0, last 20 avg 99.2\n",
            "Episode 465, episode return 112.0, last 20 avg 104.0\n",
            "Episode 470, episode return 115.0, last 20 avg 105.1\n",
            "Episode 475, episode return 114.0, last 20 avg 103.3\n",
            "Episode 480, episode return 114.0, last 20 avg 104.8\n",
            "Episode 485, episode return 109.0, last 20 avg 105.0\n",
            "Episode 490, episode return 108.0, last 20 avg 107.3\n",
            "Episode 495, episode return 113.0, last 20 avg 110.8\n"
          ]
        }
      ],
      "source": [
        "environment = CarPend()\n",
        "agentddpg  = DDPGAgent(environment.observation_space, environment.action_space, device=DEVICE) #\n",
        "rewards=simulation(environment, agentddpg ,nb_episodes=500)"
      ]
    },
    {
      "cell_type": "code",
      "execution_count": null,
      "id": "c025eeac",
      "metadata": {
        "id": "c025eeac"
      },
      "outputs": [],
      "source": [
        "torch.save(agentddpg.actor.state_dict(), 'carpend_act_checkpoint.pth')\n",
        "#agent.critic.save('act_checkpoint.pth')\n",
        "torch.save(agentddpg.critic.state_dict(), 'carpend_crit_checkpoint.pth')"
      ]
    },
    {
      "cell_type": "code",
      "execution_count": 44,
      "id": "gSC_kDdjiWTh",
      "metadata": {
        "colab": {
          "base_uri": "https://localhost:8080/",
          "height": 640
        },
        "id": "gSC_kDdjiWTh",
        "outputId": "b23c7408-d5a6-407e-aa17-c6c569849224"
      },
      "outputs": [
        {
          "name": "stderr",
          "output_type": "stream",
          "text": [
            "<>:28: DeprecationWarning: invalid escape sequence \\d\n"
          ]
        },
        {
          "data": {
            "image/png": "[encoded data removed]",
            "text/plain": [
              "<Figure size 720x720 with 4 Axes>"
            ]
          },
          "metadata": {
            "needs_background": "light"
          },
          "output_type": "display_data"
        }
      ],
      "source": [
        "# There. we finished\n",
        "# Lets see it in action\n",
        "cartpole=CarPend()\n",
        "done = False\n",
        "cnt = 0\n",
        "observation = cartpole.reset()\n",
        "t=[]\n",
        "x=[]\n",
        "xp=[]\n",
        "th=[]\n",
        "thp=[]\n",
        "while not done :\n",
        "    cnt += 1\n",
        "    t.append(cnt)\n",
        "    action = agentddpg.action(observation)\n",
        "    observation, reward, done,_ = cartpole.step(action)\n",
        "    x.append(observation[0])\n",
        "    xp.append(observation[1])\n",
        "    th.append(observation[2])\n",
        "    thp.append(observation[3])\n",
        "\n",
        "\n",
        "fig, axs = plt.subplots(2, 2, sharex=False, sharey=False, figsize=(10,10))\n",
        "plt.title('Evolution des paramètres lors d\\'une simulation de l\\'environnement CarPend, controlé par un agent DDPG entrainé sur 500 épisodes')\n",
        "axs[0, 0].plot(t, x)\n",
        "axs[0, 0].set_title('x')\n",
        "axs[0, 1].plot(t,xp, 'tab:orange')\n",
        "axs[0, 1].set_title('$\\dot x$')\n",
        "axs[1, 0].plot(t,np.array(th)*180/np.pi, 'tab:green')\n",
        "axs[1, 0].set_title('$theta$')\n",
        "axs[1, 1].plot(t,thp, 'tab:red')\n",
        "axs[1, 1].set_title('$theta point$')\n",
        "\n",
        "for ax in axs.flat:\n",
        "    ax.set(xlabel='timestep (0.01s per step)', ylabel='')\n",
        "\n",
        "#Hide x labels and tick labels for top plots and y ticks for right plots.\n",
        "for ax in axs.flat:\n",
        "    ax.label_outer()\n",
        "\n",
        "plt.show()"
      ]
    },
    {
      "cell_type": "markdown",
      "id": "1d2421c7",
      "metadata": {
        "id": "1d2421c7"
      },
      "source": [
        "### <a id=\"sec3-2\"></a> 3.2. Soft Actor-critic (SAC)\n",
        "<div id=\"sac\"></div>\n",
        "\n",
        "Soft Actor-Critic est très proche de DDPG, sauf qu'il apprend en utilisant une entropie régularisée sur la politique des actions.\n",
        "\n",
        "Soit X une variable aléatoire avec une loi de densité p(X) satisfaisant les exigences de normalisation et de positivité, nous définissons son entropie par\n",
        "$$-\\int_{X} p(x) log (p(x))dx$$\n",
        "\n",
        "Elle permet de quantifier le désordre d'une variable aléatoire. L'entropie est maximale lorsque X suit une distribution uniforme, et minimale lorsque p(X) est égal à zéro partout sauf dans une valeur, qui est une distribution de Dirac. \n",
        "\n",
        "\n",
        "\n",
        "Dans l'algorithme SAC, nous ne considérons pas seulement l'évaluation de la critique dans la loss de l'acteur, mais aussi son entropie de décision.\n",
        "La loss de l'agent devrait être élevée lorsque l'entropie est faible, car cela l'invitera à explorer davantage.\n",
        "Plus l'entropie de l'agent est importante, plus il va explorer.\n",
        "\n",
        "\n",
        "Globalement, notre acteur va calculer deux sorties : La moyenne et l'écart type de la loi normal qui va nous fournir une action. \n",
        "\n",
        "Le \"soft\" dans Soft Actor-Critic fait référence à l'utilisation d'une entropie de politique régularisée pour encourager l'exploration. Cette entropie est une mesure de l'incertitude de la politique et peut être interprétée comme une mesure de l'exploration de l'agent. En régularisant l'entropie de la politique, l'algorithme encourage l'agent à explorer de nouvelles actions plutôt que de s'appuyer uniquement sur des actions qui ont déjà donné de bonnes récompenses.\n",
        "\n",
        "\n",
        "\n",
        "NB: Les hyperparamètres de l'algorithme sont définis dans la fonction __init__(), et on voit l'utilisation de $\\alpha$, ratio entre la valeur du critique et de l'entropie dans l'update du critic.\n",
        "\n",
        "$$V(s') = TargetCritic(s', a') - alpha * LogProb$$ où $$a', LogProg = SampleAction(s')$$\n",
        "\n",
        "Des informations utiles et plus détaillées peuvent être trouvées dans [ce document](https://arxiv.org/pdf/1812.05905.pdf)"
      ]
    },
    {
      "cell_type": "code",
      "execution_count": 12,
      "id": "51dca328",
      "metadata": {
        "id": "51dca328"
      },
      "outputs": [],
      "source": [
        "from torch import optim\n",
        "import torch.nn.functional as f\n",
        "from torch.distributions.normal import Normal\n",
        "\n",
        "class SACAgent(Agent):\n",
        "    def __init__(self, state_space, action_space, device, actor_lr=0.0001, critic_lr=0.001, gamma=0.98,\n",
        "                 max_size=1000000, tau=0.005, layer1_size=128, layer2_size=128, batch_size=128, alpha=1):\n",
        "        super().__init__(state_space, action_space, device, \"SAC\")\n",
        "        self.gamma = gamma\n",
        "        self.tau = tau\n",
        "        self.replay_buffer = ReplayBuffer(max_size, self.device)\n",
        "        self.batch_size = batch_size\n",
        "        self.state_size = state_space.shape[0] \n",
        "        self.actions_bounds_range = torch.tensor((action_space.high[0] - action_space.low[0]) / 2).to(self.device)\n",
        "        self.actions_bounds_mean = torch.tensor(mean((action_space.high[0], action_space.low[0]))).to(self.device)\n",
        "        self.min_std = 1e-3\n",
        "\n",
        "        #Reseau acteur\n",
        "        self.actor = nn.Sequential(nn.Linear(self.state_size, layer1_size), nn.Tanh(),\n",
        "                                   nn.Linear(layer1_size, layer2_size), nn.Tanh(),\n",
        "                                   nn.Linear(layer2_size, 2 * self.nb_actions)).to(device=self.device).float()\n",
        "        self.actor_optimizer = optim.Adam(self.actor.parameters(), lr=actor_lr)\n",
        "        self.target_actor = copy.deepcopy(self.actor)\n",
        "\n",
        "\n",
        "        #Critic\n",
        "        self.critic = nn.Sequential(nn.Linear(self.state_size + self.nb_actions, layer1_size), nn.ReLU(),\n",
        "                                    nn.Linear(layer1_size, layer2_size), nn.ReLU(),\n",
        "                                    nn.Linear(layer2_size, 1)).to(device=self.device).float()\n",
        "        self.critic_optimizer = optim.Adam(self.critic.parameters(), lr=critic_lr)\n",
        "        self.target_critic = copy.deepcopy(self.critic)\n",
        "\n",
        "        self.alpha = alpha ##Ratio entre le critic et l'entropie dans l'update\n",
        "    \n",
        "    def converge_to(self, model, other_model, tau=None): ##Meme fonction que dans DDPG\n",
        "        if tau is None:\n",
        "            tau = self.tau\n",
        "        for self_param, other_param in zip(model.parameters(), other_model.parameters()):\n",
        "            self_param.data.copy_(\n",
        "                self_param.data * (1.0 - tau) + other_param.data * tau\n",
        "            )\n",
        "\n",
        "    def sample_action(self, state, reparameterize=True, actor_network=None):\n",
        "        if actor_network is None:\n",
        "            actor_network = self.actor\n",
        "\n",
        "        # Forward\n",
        "        if isinstance(state, np.ndarray): ## Si state est un np.array, on le transforme en tenseur torch et l'envoie vers le device utilisé\n",
        "            state = torch.from_numpy(state).to(self.device)\n",
        "        actor_output = actor_network(state.float())\n",
        "        #print('ac_outp', actor_output)\n",
        "        if len(state.shape) > 1:  #C'est un batch\n",
        "            actions_means = actor_output[:, :self.nb_actions] ##Moyenne de la loi normale utilisée pour tirer les actions (unique dans notre cas )\n",
        "            actions_stds = actor_output[:, self.nb_actions:].exp() ## Ecart type de la loi normale utilisée pour tirer les actions (unique dans notre cas)\n",
        "        else: ## Ce n'est pas un batch\n",
        "            actions_means = actor_output[:self.nb_actions]\n",
        "            actions_stds = actor_output[self.nb_actions:].exp() ##On applique la fonction exponentielle pour être sûr de la positivité, le reseau renvoie donc log(std)\n",
        "\n",
        "\n",
        "        actions_stds = torch.clamp(actions_stds, min=self.min_std, max=1)\n",
        "        #print('act_stds', actions_stds)\n",
        "        actions_distribution = Normal(actions_means, actions_stds) #Distribution de laquelle on va tirer notre action\n",
        "\n",
        "        if reparameterize: #Reparametrization trick: permet de pouvoir différentier le tirage dans la loi normale via rsample()\n",
        "            actions = actions_distribution.rsample()\n",
        "        else:\n",
        "            actions = actions_distribution.sample()\n",
        "        #print('act',actions)\n",
        "        action = torch.tanh(actions) * self.actions_bounds_range + self.actions_bounds_mean #On envoie notre action dans l'espace d'actions\n",
        "        #print('action_', action)\n",
        "\n",
        "\n",
        "        #calcul de la log_prob de l'action :\n",
        "        log_probs = actions_distribution.log_prob(action) \n",
        "        log_probs -= torch.log(1 - action.pow(2) + self.min_std) \n",
        "        log_probs = log_probs.sum(dim=-1)\n",
        "\n",
        "\n",
        "        return action, log_probs\n",
        "\n",
        "    def action(self, state):\n",
        "        actions, _ = self.sample_action(state, reparameterize=True)\n",
        "\n",
        "        return actions.cpu().detach().numpy()\n",
        "\n",
        "    def learn(self): ##Processus d'entrainement de l'algorithme\n",
        "\n",
        "        if len(self.replay_buffer) > self.batch_size: #on ne l'entraine que s'il y a plus d'un batch dans le replay buffer\n",
        "            states, actions, rewards, next_states, done = self.replay_buffer.sample(self.batch_size)\n",
        "\n",
        "            # Training critic\n",
        "            with torch.no_grad():\n",
        "                next_actions, next_log_probs = self.sample_action(next_states, actor_network=self.target_actor)\n",
        "                next_q_values = self.target_critic.forward(torch.cat((next_states, next_actions), -1)).view(-1)\n",
        "\n",
        "            q_hat = rewards + self.gamma * (1 - done) * (next_q_values - self.alpha * next_log_probs)\n",
        "\n",
        "            self.critic_optimizer.zero_grad()\n",
        "            q_values = self.critic.forward(torch.cat((states, actions), 1)).view(-1)\n",
        "            critic_loss = f.mse_loss(q_values, q_hat)\n",
        "            critic_loss.backward()\n",
        "            self.critic_optimizer.step()\n",
        "            \n",
        "            self.converge_to(self.target_critic, self.critic)\n",
        "\n",
        "            # Train actor\n",
        "            actions, log_probs = self.sample_action(states, reparameterize=True)\n",
        "            log_probs = log_probs.view(-1)\n",
        "            critic_values = self.critic.forward(torch.cat((states, actions), -1)).view(-1)\n",
        "\n",
        "            actor_loss = log_probs - critic_values\n",
        "            actor_loss = torch.mean(actor_loss)\n",
        "            self.actor_optimizer.zero_grad()\n",
        "            actor_loss.backward(retain_graph=True)\n",
        "            self.actor_optimizer.step()\n",
        "            \n",
        "            self.converge_to(self.target_actor, self.actor)\n",
        "\n",
        "    def on_action_stop(self, action, new_state, reward, done):\n",
        "        self.replay_buffer.append(self.last_state, action, reward, new_state, done)\n",
        "        self.learn()\n",
        "        super().on_action_stop(action, new_state, reward, done)\n"
      ]
    },
    {
      "attachments": {},
      "cell_type": "markdown",
      "id": "d0e4596d",
      "metadata": {
        "id": "d0e4596d"
      },
      "source": [
        "#### <a id=\"sec3-2-1\"></a> 3.2.1. Essai sur environnement jouet CarPend"
      ]
    },
    {
      "cell_type": "code",
      "execution_count": 13,
      "id": "tpB9_hVBzukB",
      "metadata": {
        "colab": {
          "base_uri": "https://localhost:8080/"
        },
        "id": "tpB9_hVBzukB",
        "outputId": "926c3a43-9bad-4bcb-a179-8033bf441d7a"
      },
      "outputs": [
        {
          "name": "stdout",
          "output_type": "stream",
          "text": [
            "Episode   0, episode return 75.0, last 20 avg 75.0\n",
            "Episode   5, episode return 71.0, last 20 avg 97.7\n",
            "Episode  10, episode return 130.0, last 20 avg 102.4\n",
            "Episode  15, episode return 82.0, last 20 avg 101.6\n",
            "Episode  20, episode return 81.0, last 20 avg 99.8\n",
            "Episode  25, episode return 100.0, last 20 avg 97.3\n",
            "Episode  30, episode return 91.0, last 20 avg 93.7\n",
            "Episode  35, episode return 106.0, last 20 avg 94.2\n",
            "Episode  40, episode return 95.0, last 20 avg 94.3\n",
            "Episode  45, episode return 89.0, last 20 avg 95.4\n",
            "Episode  50, episode return 83.0, last 20 avg 94.7\n",
            "Episode  55, episode return 88.0, last 20 avg 93.2\n",
            "Episode  60, episode return 83.0, last 20 avg 92.8\n",
            "Episode  65, episode return 102.0, last 20 avg 93.2\n",
            "Episode  70, episode return 79.0, last 20 avg 91.8\n",
            "Episode  75, episode return 108.0, last 20 avg 92.7\n",
            "Episode  80, episode return 95.0, last 20 avg 93.1\n",
            "Episode  85, episode return 81.0, last 20 avg 90.0\n",
            "Episode  90, episode return 78.0, last 20 avg 90.4\n",
            "Episode  95, episode return 75.0, last 20 avg 91.5\n",
            "Episode 100, episode return 90.0, last 20 avg 97.3\n",
            "Episode 105, episode return 123.0, last 20 avg 103.3\n",
            "Episode 110, episode return 78.0, last 20 avg 106.0\n",
            "Episode 115, episode return 106.0, last 20 avg 106.7\n",
            "Episode 120, episode return 75.0, last 20 avg 104.3\n",
            "Episode 125, episode return 109.0, last 20 avg 104.2\n",
            "Episode 130, episode return 112.0, last 20 avg 106.8\n",
            "Episode 135, episode return 95.0, last 20 avg 110.5\n",
            "Episode 140, episode return 105.0, last 20 avg 111.3\n",
            "Episode 145, episode return 130.0, last 20 avg 116.8\n",
            "Episode 150, episode return 140.0, last 20 avg 126.1\n",
            "Episode 155, episode return 173.0, last 20 avg 129.2\n",
            "Episode 160, episode return 85.0, last 20 avg 138.9\n",
            "Episode 165, episode return 236.0, last 20 avg 161.2\n",
            "Episode 170, episode return 197.0, last 20 avg 172.1\n",
            "Episode 175, episode return 352.0, last 20 avg 225.7\n",
            "Episode 180, episode return 257.0, last 20 avg 258.8\n",
            "Episode 185, episode return 269.0, last 20 avg 277.6\n",
            "Episode 190, episode return 304.0, last 20 avg 313.4\n",
            "Episode 195, episode return 373.0, last 20 avg 311.8\n",
            "Episode 200, episode return 447.0, last 20 avg 347.2\n",
            "Episode 205, episode return 700.0, last 20 avg 397.7\n",
            "Episode 210, episode return 629.0, last 20 avg 444.5\n",
            "Episode 215, episode return 528.0, last 20 avg 496.1\n",
            "Episode 220, episode return 642.0, last 20 avg 520.2\n",
            "Episode 225, episode return 506.0, last 20 avg 538.6\n",
            "Episode 230, episode return 679.0, last 20 avg 563.1\n",
            "Episode 235, episode return 624.0, last 20 avg 579.1\n",
            "Episode 240, episode return 595.0, last 20 avg 598.5\n",
            "Episode 245, episode return 700.0, last 20 avg 594.3\n",
            "Episode 250, episode return 540.0, last 20 avg 579.4\n",
            "Episode 255, episode return 700.0, last 20 avg 595.0\n",
            "Episode 260, episode return 664.0, last 20 avg 608.7\n",
            "Episode 265, episode return 700.0, last 20 avg 640.4\n",
            "Episode 270, episode return 516.0, last 20 avg 667.0\n",
            "Episode 275, episode return 651.0, last 20 avg 655.2\n",
            "Episode 280, episode return 700.0, last 20 avg 668.2\n",
            "Episode 285, episode return 653.0, last 20 avg 647.2\n",
            "Episode 290, episode return 700.0, last 20 avg 646.4\n",
            "Episode 295, episode return 549.0, last 20 avg 648.1\n",
            "Episode 300, episode return 700.0, last 20 avg 624.9\n",
            "Episode 305, episode return 517.0, last 20 avg 618.3\n",
            "Episode 310, episode return 484.0, last 20 avg 603.2\n",
            "Episode 315, episode return 700.0, last 20 avg 619.1\n",
            "Episode 320, episode return 564.0, last 20 avg 621.1\n",
            "Episode 325, episode return 700.0, last 20 avg 653.6\n",
            "Episode 330, episode return 700.0, last 20 avg 678.8\n",
            "Episode 335, episode return 543.0, last 20 avg 671.0\n",
            "Episode 340, episode return 700.0, last 20 avg 683.1\n",
            "Episode 345, episode return 695.0, last 20 avg 677.5\n",
            "Episode 350, episode return 700.0, last 20 avg 658.5\n",
            "Episode 355, episode return 700.0, last 20 avg 662.2\n",
            "Episode 360, episode return 700.0, last 20 avg 668.0\n",
            "Episode 365, episode return 700.0, last 20 avg 673.6\n",
            "Episode 370, episode return 700.0, last 20 avg 689.0\n",
            "Episode 375, episode return 700.0, last 20 avg 688.8\n",
            "Episode 380, episode return 640.0, last 20 avg 689.0\n",
            "Episode 385, episode return 700.0, last 20 avg 689.0\n",
            "Episode 390, episode return 691.0, last 20 avg 692.2\n",
            "Episode 395, episode return 579.0, last 20 avg 673.4\n",
            "Episode 400, episode return 438.0, last 20 avg 657.5\n",
            "Episode 405, episode return 660.0, last 20 avg 647.2\n",
            "Episode 410, episode return 700.0, last 20 avg 638.2\n",
            "Episode 415, episode return 700.0, last 20 avg 656.6\n",
            "Episode 420, episode return 700.0, last 20 avg 673.8\n",
            "Episode 425, episode return 700.0, last 20 avg 675.6\n",
            "Episode 430, episode return 615.0, last 20 avg 680.9\n",
            "Episode 435, episode return 700.0, last 20 avg 677.5\n",
            "Episode 440, episode return 672.0, last 20 avg 677.8\n",
            "Episode 445, episode return 700.0, last 20 avg 658.5\n",
            "Episode 450, episode return 700.0, last 20 avg 652.6\n",
            "Episode 455, episode return 700.0, last 20 avg 657.9\n",
            "Episode 460, episode return 700.0, last 20 avg 636.2\n",
            "Episode 465, episode return 510.0, last 20 avg 641.3\n",
            "Episode 470, episode return 563.0, last 20 avg 638.6\n",
            "Episode 475, episode return 700.0, last 20 avg 628.7\n",
            "Episode 480, episode return 680.0, last 20 avg 650.8\n",
            "Episode 485, episode return 517.0, last 20 avg 653.0\n",
            "Episode 490, episode return 48.0, last 20 avg 565.9\n",
            "Episode 495, episode return 44.0, last 20 avg 414.6\n"
          ]
        }
      ],
      "source": [
        "environment = CarPend(max_time=700)\n",
        "agentsac = SACAgent(environment.observation_space, environment.action_space, device=DEVICE)\n",
        "reward_sac=simulation(environment, agentsac, nb_episodes=500)"
      ]
    },
    {
      "cell_type": "markdown",
      "id": "Kub6saI6OZEm",
      "metadata": {
        "id": "Kub6saI6OZEm"
      },
      "source": [
        "Executer cette cellule pour sauvegarder l'agent"
      ]
    },
    {
      "cell_type": "code",
      "execution_count": null,
      "id": "Vnjpx7FIzkpZ",
      "metadata": {
        "id": "Vnjpx7FIzkpZ"
      },
      "outputs": [],
      "source": [
        "\n",
        "torch.save(agentsac.actor.state_dict(), 'carpend_jouet_act_checkpoint_sac.pth')\n",
        "torch.save(agentsac.critic.state_dict(), 'carpend_crit_checkpoint_sac.pth')"
      ]
    },
    {
      "cell_type": "code",
      "execution_count": 23,
      "id": "bjqqBTgxkyP5",
      "metadata": {
        "id": "bjqqBTgxkyP5"
      },
      "outputs": [],
      "source": [
        "#Sum Up: \n",
        "\n",
        "def moving_average(x, w):\n",
        "    return np.convolve(x, np.ones(w), 'valid') / w\n",
        "\n",
        "data_s = np.array(reward_sac)\n",
        "data_ddpg=np.array(rewards)\n",
        "movs=moving_average(data_s,10)\n",
        "movd=moving_average(data_ddpg,10)\n",
        "\n",
        "movs=np.concatenate((data_s[:9],movs))\n",
        "movd=np.concatenate((data_ddpg[:9],movd))\n"
      ]
    },
    {
      "attachments": {},
      "cell_type": "markdown",
      "id": "E2uPb5TcT7GA",
      "metadata": {
        "id": "E2uPb5TcT7GA"
      },
      "source": [
        "# <a id=\"sec4\"></a> 4. Évolution des rewards selon les algorithmes"
      ]
    },
    {
      "cell_type": "code",
      "execution_count": 25,
      "id": "wqRoltKmlGXU",
      "metadata": {
        "colab": {
          "base_uri": "https://localhost:8080/",
          "height": 295
        },
        "id": "wqRoltKmlGXU",
        "outputId": "53db63be-d8ba-463c-ade5-6dd52c89e3dd"
      },
      "outputs": [
        {
          "data": {
            "image/png": "[encoded data removed]",
            "text/plain": [
              "<Figure size 432x288 with 1 Axes>"
            ]
          },
          "metadata": {
            "needs_background": "light"
          },
          "output_type": "display_data"
        }
      ],
      "source": [
        "plt.figure()\n",
        "plt.plot(range(1,491),movs[:490], label='SAC')\n",
        "plt.plot(range(1,491),movd[:490], label='DDPG')\n",
        "plt.xlabel('Episode')\n",
        "plt.ylabel('Reward')\n",
        "plt.legend()\n",
        "plt.title('Reward de l\\'algorithme en fonction du nombre d\\'épisodes, pour le pendule inversé')\n",
        "plt.show()"
      ]
    }
  ],
  "metadata": {
    "accelerator": "GPU",
    "colab": {
      "provenance": []
    },
    "gpuClass": "standard",
    "kernelspec": {
      "display_name": "Python 3",
      "language": "python",
      "name": "python3"
    },
    "language_info": {
      "codemirror_mode": {
        "name": "ipython",
        "version": 3
      },
      "file_extension": ".py",
      "mimetype": "text/x-python",
      "name": "python",
      "nbconvert_exporter": "python",
      "pygments_lexer": "ipython3",
      "version": "3.9.12"
    },
    "vscode": {
      "interpreter": {
        "hash": "3067ead486e059ec00ffe7555bdb889e6e264a24dc711bf108106cc7baee8d5d"
      }
    }
  },
  "nbformat": 4,
  "nbformat_minor": 5
}
